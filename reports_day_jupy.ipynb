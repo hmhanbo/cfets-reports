{
 "cells": [
  {
   "cell_type": "code",
   "execution_count": null,
   "metadata": {
    "collapsed": true
   },
   "outputs": [],
   "source": [
    "import pandas as pd\n",
    "import pymysql\n",
    "from datetime import datetime\n",
    "import pandas.io.sql as pds\n",
    "import matplotlib.pyplot as plt\n",
    "import numpy as np\n",
    "from matplotlib.font_manager import FontProperties\n",
    "\n",
    "def get_datas(database, sql):\n",
    "    cursor = database.cursor()  # 使用 cursor() 方法创建一个游标对象 curs\n",
    "    try:\n",
    "        cursor.execute(sql)\n",
    "    except Exception as e:\n",
    "        database.rollback()  # 发生错误时回滚\n",
    "        print(str(e))\n",
    "    else:\n",
    "        database.commit()  # 事务提交\n",
    "        datas = cursor.fetchall()\n",
    "        cursor.close()\n",
    "        return datas"
   ]
  },
  {
   "cell_type": "code",
   "execution_count": null,
   "metadata": {
    "collapsed": true
   },
   "outputs": [],
   "source": [
    "db = pymysql.connect(\"localhost\", \"root\", \"zgsxhm\", \"db_0221\", use_unicode=True, charset=\"utf8\")\n",
    "sql_get_datas = 'select * from bytype '\n",
    "datas = pds.read_sql(sql_get_datas, db)\n",
    "font_set = FontProperties(fname=\"c:/myproject/pyExcel/cfets_reports/simfang.ttf\", size=12)"
   ]
  },
  {
   "cell_type": "code",
   "execution_count": null,
   "metadata": {
    "collapsed": true
   },
   "outputs": [],
   "source": [
    "def by_bond_class(input_data, bond_class):\n",
    "    data = input_data\n",
    "    d1 = pd.pivot_table(data[(data.bond_class==bond_class)], index=[\"inst_type\"], values=[\"vol\"], \n",
    "                   columns=[\"side\"], aggfunc=np.sum)\n",
    "    x = np.arange(len(d1))\n",
    "    # 绘制柱状图, 向上\n",
    "    plt.xlabel(\"机构类型\", fontproperties=font_set)\n",
    "\n",
    "    plt.bar(x, np.array(d1.values[:,0]), facecolor='white', edgecolor='r')\n",
    "    # 绘制柱状图, 向下\n",
    "    plt.bar(x, -np.array(d1.values[:,1]), facecolor='white', edgecolor='g')\n",
    "    plt.bar(x, np.array(d1.values[:,0])-np.array(d1.values[:,1]), facecolor='r', edgecolor='r')\n",
    "\n",
    "    temp = zip(x, d1.values[:,1])\n",
    "    temp2 = zip(x, d1.index)\n",
    "    # 在柱状图上显示具体数值, ha水平对齐, va垂直对齐\n",
    "    for x, y in zip(x, d1.values[:,0]):\n",
    "        plt.text(x, y+0.1, y, ha='center', va='bottom')\n",
    "\n",
    "    for x, y in temp:\n",
    "        plt.text(x, -y-0.1, y, ha='center', va='bottom')\n",
    "    for x, y in temp2:\n",
    "        plt.text(x, 0, d1.index[x], ha='center', va='bottom', fontproperties=font_set)\n",
    "\n",
    "    plt.xticks(())\n",
    "    plt.yticks(())\n",
    "    plt.title('%s买入卖出情况' % (bond_class), loc = 'left', fontproperties=font_set)\n",
    "    plt.legend(['买入','卖出','净买入/卖出'])\n",
    "    plt.savefig('C:/myproject/pyExcel/cfets_reports/%s买入卖出情况.png' % (bond_class))\n",
    "    plt.show()"
   ]
  },
  {
   "cell_type": "code",
   "execution_count": null,
   "metadata": {
    "collapsed": true
   },
   "outputs": [],
   "source": [
    "by_bond_class(datas, \"国债\")\n",
    "by_bond_class(datas, \"中期票据\")\n",
    "by_bond_class(datas, \"同业存单\")"
   ]
  },
  {
   "cell_type": "code",
   "execution_count": null,
   "metadata": {
    "collapsed": true
   },
   "outputs": [],
   "source": [
    ""
   ]
  },
  {
   "cell_type": "code",
   "execution_count": null,
   "metadata": {
    "collapsed": true
   },
   "outputs": [],
   "source": []
  }
 ],
 "metadata": {
  "kernelspec": {
   "display_name": "Python [Root]",
   "language": "python",
   "name": "Python [Root]"
  },
  "language_info": {
   "codemirror_mode": {
    "name": "ipython",
    "version": 3
   },
   "file_extension": ".py",
   "mimetype": "text/x-python",
   "name": "python",
   "nbconvert_exporter": "python",
   "pygments_lexer": "ipython3",
   "version": "3.5.2"
  }
 },
 "nbformat": 4,
 "nbformat_minor": 0
}
